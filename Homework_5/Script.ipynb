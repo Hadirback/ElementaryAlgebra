{
 "cells": [
  {
   "cell_type": "code",
   "execution_count": 15,
   "metadata": {},
   "outputs": [],
   "source": [
    "%matplotlib inline\n",
    "import numpy as np\n",
    "import matplotlib.pyplot as plt\n",
    "import matplotlib.mlab as mlab"
   ]
  },
  {
   "cell_type": "code",
   "execution_count": 2,
   "metadata": {},
   "outputs": [
    {
     "name": "stdout",
     "output_type": "stream",
     "text": [
      "Вам выпал Черный  23.0\n"
     ]
    }
   ],
   "source": [
    "# 1. Напишите код, моделирующий выпадение поля в рулетке (с учетом поля зеро).\n",
    "number = np.random.uniform(0, 37)\n",
    "\n",
    "if number < 1:\n",
    "    print('Вам выпало zero!')\n",
    "else:\n",
    "    if np.floor(number) % 2 == 0:\n",
    "        print('Вам выпал красный {0}'.format(np.floor(number)))\n",
    "    else:\n",
    "        print('Вам выпал Черный  {0}'.format(np.floor(number)))"
   ]
  },
  {
   "cell_type": "code",
   "execution_count": 3,
   "metadata": {},
   "outputs": [
    {
     "name": "stdout",
     "output_type": "stream",
     "text": [
      "Сумма вероятностей равна 1.0\n",
      "Вероятность выпадения орла и затем решки равно P(A) * P(B) = P(A * B) 0.2491\n"
     ]
    }
   ],
   "source": [
    "# 2. Напишите код, проверяющий любую из теорем сложения или умножения вероятности на примере рулетки или подбрасывания монетки.\n",
    "k = m = 0\n",
    "n = 100\n",
    "for i in range(0, n):\n",
    "    number_for_experiment = np.random.uniform(0, 10)\n",
    "    if number_for_experiment < 5:\n",
    "        k += 1\n",
    "    else:\n",
    "        m += 1\n",
    "\n",
    "probability_k = k / n\n",
    "probability_m = m / n\n",
    "\n",
    "print('Сумма вероятностей равна {0}'.format(probability_k + probability_m))\n",
    "print('Вероятность выпадения орла и затем решки равно P(A) * P(B) = P(A * B) {0}'.format(probability_k * probability_m))"
   ]
  },
  {
   "cell_type": "code",
   "execution_count": 17,
   "metadata": {},
   "outputs": [
    {
     "name": "stdout",
     "output_type": "stream",
     "text": [
      "[2.330383091329596, 2.1865818643160293, 3.936013905023512, 1.7920348386150073, -2.832441095406419, -4.147283304222179, -0.3965854305785119, -0.7145177303685226, 0.24908587610773703, -6.8625162150703565]\n"
     ]
    },
    {
     "data": {
      "text/plain": [
       "Text(0.5, 1.0, 'Histogram')"
      ]
     },
     "execution_count": 17,
     "metadata": {},
     "output_type": "execute_result"
    },
    {
     "data": {
      "image/png": "[encoded data removed]",
      "text/plain": [
       "<Figure size 432x288 with 1 Axes>"
      ]
     },
     "metadata": {
      "needs_background": "light"
     },
     "output_type": "display_data"
    }
   ],
   "source": [
    "# 3. Сгенерируйте десять выборок случайных чисел х0, …, х9.\n",
    "# и постройте гистограмму распределения случайной суммы х0+х1+ …+ х9.\n",
    "array = []\n",
    "for i in range(0, 10):\n",
    "    array.append(np.sum(np.random.randn(10)))\n",
    "print(array)\n",
    "\n",
    "num_bins = 10\n",
    "\n",
    "n, bins, patches = plt.hist(array, num_bins)\n",
    "plt.xlabel('x')\n",
    "plt.ylabel('Probability')\n",
    "plt.title('Histogram')"
   ]
  },
  {
   "cell_type": "code",
   "execution_count": 18,
   "metadata": {},
   "outputs": [
    {
     "name": "stdout",
     "output_type": "stream",
     "text": [
      "369 1000 0.369\n",
      "Вероятность через формулу Бернулли - 0.375\n",
      "При больших значениях n вероятность рассчитаная методом Монте-Карло стремится к вероятности рассчитаной по формуле Бернулли\n"
     ]
    }
   ],
   "source": [
    "# 4. Дополните код Монте-Карло последовательности независимых испытаний расчетом соответствующих \n",
    "# вероятностей (через биномиальное распределение) и сравните результаты.\n",
    "\n",
    "import itertools\n",
    "\n",
    "\n",
    "def get_probability(options, count, p, q):\n",
    "    coeff = (np.math.factorial(count) / (np.math.factorial(options) * np.math.factorial(count - options)))\n",
    "    return coeff * pow(p, options) * pow(q, (count - options))\n",
    "\n",
    "\n",
    "# Реализация метода Монте Карло для последовательных и независимых испытаний\n",
    "k, n = 0, 1000\n",
    "# случйные векторы\n",
    "a = np.random.randint(0, 2, n)\n",
    "b = np.random.randint(0, 2, n)\n",
    "c = np.random.randint(0, 2, n)\n",
    "d = np.random.randint(0, 2, n)\n",
    "x = a + b + c + d\n",
    "for i in range(0, n):\n",
    "    if x[i] == 2:\n",
    "        k = k + 1\n",
    "\n",
    "\n",
    "print(k, n, k/n)\n",
    "\n",
    "print('Вероятность через формулу Бернулли - {0}'.format(get_probability(2, 4, 0.5, 0.5)))\n",
    "print('При больших значениях n вероятность рассчитаная методом Монте-Карло стремится к вероятности рассчитаной по формуле Бернулли')"
   ]
  },
  {
   "cell_type": "code",
   "execution_count": 19,
   "metadata": {},
   "outputs": [
    {
     "name": "stdout",
     "output_type": "stream",
     "text": [
      "Вероятность через формулу Бернулли, при k = 6, n = 10 - 0.205078125\n"
     ]
    }
   ],
   "source": [
    "# 5. Повторите расчеты биномиальных коэффициентов и вероятностей k успехов в последовательности \n",
    "# из n независимых испытаний, взяв другие значения n и k.\n",
    "\n",
    "k = 6\n",
    "n = 10\n",
    "print('Вероятность через формулу Бернулли, при k = {1}, n = {2} - {0}'.format(get_probability(k, n, 0.5, 0.5), k, n))"
   ]
  },
  {
   "cell_type": "code",
   "execution_count": 20,
   "metadata": {},
   "outputs": [
    {
     "name": "stdout",
     "output_type": "stream",
     "text": [
      "000\n",
      "001\n",
      "002\n",
      "003\n",
      "004\n",
      "010\n",
      "011\n",
      "012\n",
      "013\n",
      "014\n",
      "020\n",
      "021\n",
      "022\n",
      "023\n",
      "024\n",
      "030\n",
      "031\n",
      "032\n",
      "033\n",
      "034\n",
      "040\n",
      "041\n",
      "042\n",
      "043\n",
      "044\n",
      "100\n",
      "101\n",
      "102\n",
      "103\n",
      "104\n",
      "110\n",
      "111\n",
      "112\n",
      "113\n",
      "114\n",
      "120\n",
      "121\n",
      "122\n",
      "123\n",
      "124\n",
      "130\n",
      "131\n",
      "132\n",
      "133\n",
      "134\n",
      "140\n",
      "141\n",
      "142\n",
      "143\n",
      "144\n",
      "200\n",
      "201\n",
      "202\n",
      "203\n",
      "204\n",
      "210\n",
      "211\n",
      "212\n",
      "213\n",
      "214\n",
      "220\n",
      "221\n",
      "222\n",
      "223\n",
      "224\n",
      "230\n",
      "231\n",
      "232\n",
      "233\n",
      "234\n",
      "240\n",
      "241\n",
      "242\n",
      "243\n",
      "244\n",
      "300\n",
      "301\n",
      "302\n",
      "303\n",
      "304\n",
      "310\n",
      "311\n",
      "312\n",
      "313\n",
      "314\n",
      "320\n",
      "321\n",
      "322\n",
      "323\n",
      "324\n",
      "330\n",
      "331\n",
      "332\n",
      "333\n",
      "334\n",
      "340\n",
      "341\n",
      "342\n",
      "343\n",
      "344\n",
      "400\n",
      "401\n",
      "402\n",
      "403\n",
      "404\n",
      "410\n",
      "411\n",
      "412\n",
      "413\n",
      "414\n",
      "420\n",
      "421\n",
      "422\n",
      "423\n",
      "424\n",
      "430\n",
      "431\n",
      "432\n",
      "433\n",
      "434\n",
      "440\n",
      "441\n",
      "442\n",
      "443\n",
      "444\n",
      "------------\n",
      "0123\n",
      "0124\n",
      "0132\n",
      "0134\n",
      "0142\n",
      "0143\n",
      "0213\n",
      "0214\n",
      "0231\n",
      "0234\n",
      "0241\n",
      "0243\n",
      "0312\n",
      "0314\n",
      "0321\n",
      "0324\n",
      "0341\n",
      "0342\n",
      "0412\n",
      "0413\n",
      "0421\n",
      "0423\n",
      "0431\n",
      "0432\n",
      "1023\n",
      "1024\n",
      "1032\n",
      "1034\n",
      "1042\n",
      "1043\n",
      "1203\n",
      "1204\n",
      "1230\n",
      "1234\n",
      "1240\n",
      "1243\n",
      "1302\n",
      "1304\n",
      "1320\n",
      "1324\n",
      "1340\n",
      "1342\n",
      "1402\n",
      "1403\n",
      "1420\n",
      "1423\n",
      "1430\n",
      "1432\n",
      "2013\n",
      "2014\n",
      "2031\n",
      "2034\n",
      "2041\n",
      "2043\n",
      "2103\n",
      "2104\n",
      "2130\n",
      "2134\n",
      "2140\n",
      "2143\n",
      "2301\n",
      "2304\n",
      "2310\n",
      "2314\n",
      "2340\n",
      "2341\n",
      "2401\n",
      "2403\n",
      "2410\n",
      "2413\n",
      "2430\n",
      "2431\n",
      "3012\n",
      "3014\n",
      "3021\n",
      "3024\n",
      "3041\n",
      "3042\n",
      "3102\n",
      "3104\n",
      "3120\n",
      "3124\n",
      "3140\n",
      "3142\n",
      "3201\n",
      "3204\n",
      "3210\n",
      "3214\n",
      "3240\n",
      "3241\n",
      "3401\n",
      "3402\n",
      "3410\n",
      "3412\n",
      "3420\n",
      "3421\n",
      "4012\n",
      "4013\n",
      "4021\n",
      "4023\n",
      "4031\n",
      "4032\n",
      "4102\n",
      "4103\n",
      "4120\n",
      "4123\n",
      "4130\n",
      "4132\n",
      "4201\n",
      "4203\n",
      "4210\n",
      "4213\n",
      "4230\n",
      "4231\n",
      "4301\n",
      "4302\n",
      "4310\n",
      "4312\n",
      "4320\n",
      "4321\n",
      "------------\n",
      "012\n",
      "013\n",
      "014\n",
      "023\n",
      "024\n",
      "034\n",
      "123\n",
      "124\n",
      "134\n",
      "234\n"
     ]
    }
   ],
   "source": [
    "# 6. Из урока по комбинаторике повторите расчеты, сгенерировав возможные варианты перестановок для других значений n и k\n",
    "\n",
    "for p in itertools.product(\"01234\", repeat=3):\n",
    "    print(''.join(p))\n",
    "print('------------')\n",
    "# размещения или перестановка\n",
    "for p in itertools.permutations('01234', 4):\n",
    "    print(''.join(str(x) for x in p))\n",
    "print('------------')\n",
    "for p in itertools.combinations(\"01234\", 3):\n",
    "    print(''.join(p))\n"
   ]
  },
  {
   "cell_type": "code",
   "execution_count": 27,
   "metadata": {},
   "outputs": [
    {
     "name": "stdout",
     "output_type": "stream",
     "text": [
      "0.71298969659287 0.1316296650783132\n",
      "0.7129896965928703 0.13162966507831322\n"
     ]
    },
    {
     "name": "stderr",
     "output_type": "stream",
     "text": [
      "C:\\Users\\1\\Anaconda3\\lib\\site-packages\\ipykernel_launcher.py:16: FutureWarning: `rcond` parameter will change to the default of machine precision times ``max(M, N)`` where M and N are the input matrix dimensions.\n",
      "To use the future default and silence this warning we advise to pass `rcond=None`, to keep using the old, explicitly pass `rcond=-1`.\n",
      "  app.launch_new_instance()\n"
     ]
    },
    {
     "data": {
      "image/png": "[encoded data removed]",
      "text/plain": [
       "<Figure size 432x288 with 1 Axes>"
      ]
     },
     "metadata": {
      "needs_background": "light"
     },
     "output_type": "display_data"
    },
    {
     "name": "stdout",
     "output_type": "stream",
     "text": [
      "0.9281267879020002\n",
      "[[1.         0.92812679]\n",
      " [0.92812679 1.        ]]\n"
     ]
    }
   ],
   "source": [
    "# 7. Дополните код расчетом коэффициента корреляции x и y по формуле \n",
    "\n",
    "n = 100\n",
    "r = 0.7\n",
    "x = np.random.rand(n)\n",
    "y = r*x + (1 - r)*np.random.rand(n)\n",
    "plt.plot(x, y, 'o')\n",
    "plt.xlabel('x')\n",
    "plt.ylabel('y')\n",
    "plt.grid(True)\n",
    "\n",
    "a = (np.sum(x) * np.sum(y) - n*np.sum(x*y))/(np.sum(x)*np.sum(x) - n*np.sum(x*x))\n",
    "b = (np.sum(y) - a*np.sum(x))/n\n",
    "\n",
    "A = np.vstack([x, np.ones(len(x))]).T\n",
    "a1, b1 = np.linalg.lstsq(A, y)[0]\n",
    "\n",
    "print(a, b)\n",
    "print(a1, b1)\n",
    "plt.plot([0, 1], [b, a + b])\n",
    "\n",
    "plt.show()\n",
    "\n",
    "R = (np.sum((x - np.mean(x))*(y - np.mean(y))))/(np.sqrt(np.sum(pow((x - np.mean(x)), 2)) * np.sum(pow((y - np.mean(y)), 2))))\n",
    "c = np.corrcoef(x, y)\n",
    "print(R)\n",
    "print(c)\n"
   ]
  },
  {
   "cell_type": "code",
   "execution_count": null,
   "metadata": {},
   "outputs": [],
   "source": []
  }
 ],
 "metadata": {
  "kernelspec": {
   "display_name": "Python 3",
   "language": "python",
   "name": "python3"
  },
  "language_info": {
   "codemirror_mode": {
    "name": "ipython",
    "version": 3
   },
   "file_extension": ".py",
   "mimetype": "text/x-python",
   "name": "python",
   "nbconvert_exporter": "python",
   "pygments_lexer": "ipython3",
   "version": "3.7.4"
  }
 },
 "nbformat": 4,
 "nbformat_minor": 2
}
